{
 "cells": [
  {
   "cell_type": "markdown",
   "metadata": {},
   "source": [
    "# Financial Planning with APIs and Simulations\n",
    "\n",
    "In this Challenge, you’ll create two financial analysis tools by using a single Jupyter notebook:\n",
    "\n",
    "Part 1: A financial planner for emergencies. The members will be able to use this tool to visualize their current savings. The members can then determine if they have enough reserves for an emergency fund.\n",
    "\n",
    "Part 2: A financial planner for retirement. This tool will forecast the performance of their retirement portfolio in 30 years. To do this, the tool will make an Alpaca API call via the Alpaca SDK to get historical price data for use in Monte Carlo simulations.\n",
    "\n",
    "You’ll use the information from the Monte Carlo simulation to answer questions about the portfolio in your Jupyter notebook.\n",
    "\n"
   ]
  },
  {
   "cell_type": "code",
   "execution_count": 1,
   "metadata": {},
   "outputs": [],
   "source": [
    "# Import the required libraries and dependencies\n",
    "import os\n",
    "import requests\n",
    "import json\n",
    "import pandas as pd\n",
    "from dotenv import load_dotenv\n",
    "import alpaca_trade_api as tradeapi\n",
    "from MCForecastTools import MCSimulation\n",
    "\n",
    "%matplotlib inline"
   ]
  },
  {
   "cell_type": "code",
   "execution_count": 2,
   "metadata": {},
   "outputs": [
    {
     "data": {
      "text/plain": [
       "True"
      ]
     },
     "execution_count": 2,
     "metadata": {},
     "output_type": "execute_result"
    }
   ],
   "source": [
    "# Load the environment variables from the .env file\n",
    "#by calling the load_dotenv function\n",
    "load_dotenv()"
   ]
  },
  {
   "cell_type": "markdown",
   "metadata": {},
   "source": [
    "## Part 1: Create a Financial Planner for Emergencies"
   ]
  },
  {
   "cell_type": "markdown",
   "metadata": {},
   "source": [
    "### Evaluate the Cryptocurrency Wallet by Using the Requests Library\n",
    "\n",
    "In this section, you’ll determine the current value of a member’s cryptocurrency wallet. You’ll collect the current prices for the Bitcoin and Ethereum cryptocurrencies by using the Python Requests library. For the prototype, you’ll assume that the member holds the 1.2 Bitcoins (BTC) and 5.3 Ethereum coins (ETH). To do all this, complete the following steps:\n",
    "\n",
    "1. Create a variable named `monthly_income`, and set its value to `12000`.\n",
    "\n",
    "2. Use the Requests library to get the current price (in US dollars) of Bitcoin (BTC) and Ethereum (ETH) by using the API endpoints that the starter code supplies.\n",
    "\n",
    "3. Navigate the JSON response object to access the current price of each coin, and store each in a variable.\n",
    "\n",
    "    > **Hint** Note the specific identifier for each cryptocurrency in the API JSON response. The Bitcoin identifier is `1`, and the Ethereum identifier is `1027`.\n",
    "\n",
    "4. Calculate the value, in US dollars, of the current amount of each cryptocurrency and of the entire cryptocurrency wallet.\n",
    "\n"
   ]
  },
  {
   "cell_type": "code",
   "execution_count": 3,
   "metadata": {},
   "outputs": [],
   "source": [
    "# The current number of coins for each cryptocurrency asset held in the portfolio.\n",
    "btc_coins = 1.2\n",
    "eth_coins = 5.3"
   ]
  },
  {
   "cell_type": "markdown",
   "metadata": {},
   "source": [
    "#### Step 1: Create a variable named `monthly_income`, and set its value to `12000`."
   ]
  },
  {
   "cell_type": "code",
   "execution_count": 4,
   "metadata": {},
   "outputs": [],
   "source": [
    "# The monthly amount for the member's household income\n",
    "# YOUR CODE HERE\n",
    "monthly_income = 12000"
   ]
  },
  {
   "cell_type": "markdown",
   "metadata": {},
   "source": [
    "#### Review the endpoint URLs for the API calls to Free Crypto API in order to get the current pricing information for both BTC and ETH."
   ]
  },
  {
   "cell_type": "code",
   "execution_count": 5,
   "metadata": {},
   "outputs": [],
   "source": [
    "# The Free Crypto API Call endpoint URLs for the held cryptocurrency assets\n",
    "btc_url = \"https://api.alternative.me/v2/ticker/Bitcoin/?convert=USD\"\n",
    "eth_url = \"https://api.alternative.me/v2/ticker/Ethereum/?convert=USD\""
   ]
  },
  {
   "cell_type": "markdown",
   "metadata": {},
   "source": [
    "#### Step 2. Use the Requests library to get the current price (in US dollars) of Bitcoin (BTC) and Ethereum (ETH) by using the API endpoints that the starter code supplied."
   ]
  },
  {
   "cell_type": "code",
   "execution_count": 6,
   "metadata": {},
   "outputs": [
    {
     "name": "stdout",
     "output_type": "stream",
     "text": [
      "{\n",
      "     \"data\": {\n",
      "          \"1\": {\n",
      "               \"circulating_supply\": 18773831,\n",
      "               \"id\": 1,\n",
      "               \"last_updated\": 1627886400,\n",
      "               \"max_supply\": 21000000,\n",
      "               \"name\": \"Bitcoin\",\n",
      "               \"quotes\": {\n",
      "                    \"USD\": {\n",
      "                         \"market_cap\": 746452074867,\n",
      "                         \"percent_change_1h\": -0.0808389103890536,\n",
      "                         \"percent_change_24h\": -4.83586711001193,\n",
      "                         \"percent_change_7d\": 12.1392790906132,\n",
      "                         \"percentage_change_1h\": -0.0808389103890536,\n",
      "                         \"percentage_change_24h\": -4.83586711001193,\n",
      "                         \"percentage_change_7d\": 12.1392790906132,\n",
      "                         \"price\": 39760.0,\n",
      "                         \"volume_24h\": 27990125083\n",
      "                    }\n",
      "               },\n",
      "               \"rank\": 1,\n",
      "               \"symbol\": \"BTC\",\n",
      "               \"total_supply\": 18773831,\n",
      "               \"website_slug\": \"bitcoin\"\n",
      "          }\n",
      "     },\n",
      "     \"metadata\": {\n",
      "          \"error\": null,\n",
      "          \"num_cryptocurrencies\": 3105,\n",
      "          \"timestamp\": 1627886400\n",
      "     }\n",
      "}\n"
     ]
    }
   ],
   "source": [
    "# Using the Python requests library, make an API call to access the current price of BTC\n",
    "btc_response = requests.get(btc_url).json()\n",
    "\n",
    "# Use the json.dumps function to review the response data from the API call\n",
    "# Use the indent and sort_keys parameters to make the response object readable\n",
    "# YOUR CODE HERE\n",
    "print(json.dumps(btc_response, indent=5, sort_keys=True))"
   ]
  },
  {
   "cell_type": "code",
   "execution_count": 7,
   "metadata": {},
   "outputs": [
    {
     "name": "stdout",
     "output_type": "stream",
     "text": [
      "{\n",
      "     \"data\": {\n",
      "          \"1027\": {\n",
      "               \"circulating_supply\": 116937450,\n",
      "               \"id\": 1027,\n",
      "               \"last_updated\": 1627886394,\n",
      "               \"max_supply\": 0,\n",
      "               \"name\": \"Ethereum\",\n",
      "               \"quotes\": {\n",
      "                    \"USD\": {\n",
      "                         \"market_cap\": 300002741630,\n",
      "                         \"percent_change_1h\": 0.265627888600629,\n",
      "                         \"percent_change_24h\": -1.40690683906033,\n",
      "                         \"percent_change_7d\": 16.112165825686,\n",
      "                         \"percentage_change_1h\": 0.265627888600629,\n",
      "                         \"percentage_change_24h\": -1.40690683906033,\n",
      "                         \"percentage_change_7d\": 16.112165825686,\n",
      "                         \"price\": 2565.5,\n",
      "                         \"volume_24h\": 25390020700\n",
      "                    }\n",
      "               },\n",
      "               \"rank\": 2,\n",
      "               \"symbol\": \"ETH\",\n",
      "               \"total_supply\": 116937450,\n",
      "               \"website_slug\": \"ethereum\"\n",
      "          }\n",
      "     },\n",
      "     \"metadata\": {\n",
      "          \"error\": null,\n",
      "          \"num_cryptocurrencies\": 3105,\n",
      "          \"timestamp\": 1627886394\n",
      "     }\n",
      "}\n"
     ]
    }
   ],
   "source": [
    "# Using the Python requests library, make an API call to access the current price ETH\n",
    "eth_response = requests.get(eth_url).json()\n",
    "\n",
    "# Use the json.dumps function to review the response data from the API call\n",
    "# Use the indent and sort_keys parameters to make the response object readable\n",
    "# YOUR CODE HERE\n",
    "print(json.dumps(eth_response, indent=5, sort_keys=True))"
   ]
  },
  {
   "cell_type": "markdown",
   "metadata": {},
   "source": [
    "#### Step 3: Navigate the JSON response object to access the current price of each coin, and store each in a variable."
   ]
  },
  {
   "cell_type": "code",
   "execution_count": 8,
   "metadata": {},
   "outputs": [
    {
     "name": "stdout",
     "output_type": "stream",
     "text": [
      "The current price of Bitcoin (symbol: BTC) is: $39,760.00\n"
     ]
    }
   ],
   "source": [
    "# Navigate the BTC response object to access the current price of BTC\n",
    "btc_name = btc_response[\"data\"][\"1\"][\"name\"]\n",
    "btc_symbol = btc_response[\"data\"][\"1\"][\"symbol\"]\n",
    "btc_price = btc_response[\"data\"][\"1\"][\"quotes\"][\"USD\"][\"price\"]\n",
    "\n",
    "# Print the current price of BTC\n",
    "# YOUR CODE HERE\n",
    "print(f\"The current price of {btc_name} (symbol: {btc_symbol}) is: ${btc_price:0,.2f}\")"
   ]
  },
  {
   "cell_type": "code",
   "execution_count": 9,
   "metadata": {},
   "outputs": [
    {
     "name": "stdout",
     "output_type": "stream",
     "text": [
      "The current price of Ethereum (symbol: ETH) is: $2,565.50\n"
     ]
    }
   ],
   "source": [
    "# Navigate the BTC response object to access the current price of ETH\n",
    "eth_name = eth_response[\"data\"][\"1027\"][\"name\"]\n",
    "eth_symbol = eth_response[\"data\"][\"1027\"][\"symbol\"]\n",
    "eth_price = eth_response[\"data\"][\"1027\"][\"quotes\"][\"USD\"][\"price\"]\n",
    "\n",
    "# Print the current price of ETH\n",
    "# YOUR CODE HERE\n",
    "print(f\"The current price of {eth_name} (symbol: {eth_symbol}) is: ${eth_price:0,.2f}\")"
   ]
  },
  {
   "cell_type": "markdown",
   "metadata": {},
   "source": [
    "### Step 4: Calculate the value, in US dollars, of the current amount of each cryptocurrency and of the entire cryptocurrency wallet."
   ]
  },
  {
   "cell_type": "code",
   "execution_count": 10,
   "metadata": {},
   "outputs": [
    {
     "name": "stdout",
     "output_type": "stream",
     "text": [
      "The current value of Bitcoin in the portfolio is: $47,712.00\n"
     ]
    }
   ],
   "source": [
    "# Compute the current value of the BTC holding \n",
    "btc_value = btc_price * btc_coins\n",
    "\n",
    "# Print current value of your holding in BTC\n",
    "# YOUR CODE HERE\n",
    "print(f\"The current value of {btc_name} in the portfolio is: ${btc_value:0,.2f}\")"
   ]
  },
  {
   "cell_type": "code",
   "execution_count": 11,
   "metadata": {},
   "outputs": [
    {
     "name": "stdout",
     "output_type": "stream",
     "text": [
      "The current value of Ethereum in the portfolio is: $13,597.15\n"
     ]
    }
   ],
   "source": [
    "# Compute the current value of the ETH holding \n",
    "eth_value = eth_price * eth_coins\n",
    "\n",
    "# Print current value of your holding in ETH\n",
    "# YOUR CODE HERE\n",
    "print(f\"The current value of {eth_name} in the portfolio is: ${eth_value:0,.2f}\")"
   ]
  },
  {
   "cell_type": "code",
   "execution_count": 12,
   "metadata": {},
   "outputs": [
    {
     "name": "stdout",
     "output_type": "stream",
     "text": [
      "The total current value of the cryptocurrency portfolio is: $61,309.15\n"
     ]
    }
   ],
   "source": [
    "# Compute the total value of the cryptocurrency wallet\n",
    "# Add the value of the BTC holding to the value of the ETH holding\n",
    "total_crypto_wallet = btc_value + eth_value\n",
    "\n",
    "# Print current cryptocurrency wallet balance\n",
    "# YOUR CODE HERE\n",
    "print(f\"The total current value of the cryptocurrency portfolio is: ${total_crypto_wallet:0,.2f}\")"
   ]
  },
  {
   "cell_type": "markdown",
   "metadata": {},
   "source": [
    "### Evaluate the Stock and Bond Holdings by Using the Alpaca SDK\n",
    "\n",
    "In this section, you’ll determine the current value of a member’s stock and bond holdings. You’ll make an API call to Alpaca via the Alpaca SDK to get the current closing prices of the SPDR S&P 500 ETF Trust (ticker: SPY) and of the iShares Core US Aggregate Bond ETF (ticker: AGG). For the prototype, assume that the member holds 110 shares of SPY, which represents the stock portion of their portfolio, and 200 shares of AGG, which represents the bond portion. To do all this, complete the following steps:\n",
    "\n",
    "1. In the `Starter_Code` folder, create an environment file (`.env`) to store the values of your Alpaca API key and Alpaca secret key.\n",
    "\n",
    "2. Set the variables for the Alpaca API and secret keys. Using the Alpaca SDK, create the Alpaca `tradeapi.REST` object. In this object, include the parameters for the Alpaca API key, the secret key, and the version number.\n",
    "\n",
    "3. Set the following parameters for the Alpaca API call:\n",
    "\n",
    "    - `tickers`: Use the tickers for the member’s stock and bond holdings.\n",
    "\n",
    "    - `timeframe`: Use a time frame of one day.\n",
    "\n",
    "    - `start_date` and `end_date`: Use the same date for these parameters, and format them with the date of the previous weekday (or `2020-08-07`). This is because you want the one closing price for the most-recent trading day.\n",
    "\n",
    "4. Get the current closing prices for `SPY` and `AGG` by using the Alpaca `get_barset` function. Format the response as a Pandas DataFrame by including the `df` property at the end of the `get_barset` function.\n",
    "\n",
    "5. Navigating the Alpaca response DataFrame, select the `SPY` and `AGG` closing prices, and store them as variables.\n",
    "\n",
    "6. Calculate the value, in US dollars, of the current amount of shares in each of the stock and bond portions of the portfolio, and print the results.\n"
   ]
  },
  {
   "cell_type": "markdown",
   "metadata": {},
   "source": [
    "#### Review the total number of shares held in both (SPY) and (AGG)."
   ]
  },
  {
   "cell_type": "code",
   "execution_count": 13,
   "metadata": {},
   "outputs": [],
   "source": [
    "# Current amount of shares held in both the stock (SPY) and bond (AGG) portion of the portfolio.\n",
    "agg_shares = 200\n",
    "spy_shares = 110"
   ]
  },
  {
   "cell_type": "markdown",
   "metadata": {},
   "source": [
    "#### Step 1: In the `Starter_Code` folder, create an environment file (`.env`) to store the values of your Alpaca API key and Alpaca secret key."
   ]
  },
  {
   "cell_type": "markdown",
   "metadata": {},
   "source": [
    "#### Step 2: Set the variables for the Alpaca API and secret keys. Using the Alpaca SDK, create the Alpaca `tradeapi.REST` object. In this object, include the parameters for the Alpaca API key, the secret key, and the version number."
   ]
  },
  {
   "cell_type": "code",
   "execution_count": 14,
   "metadata": {},
   "outputs": [],
   "source": [
    "# Set the variables for the Alpaca API and secret keys\n",
    "load_dotenv()\n",
    "\n",
    "# YOUR CODE HERE\n",
    "alpaca_api_key = os.getenv(\"ALPACA_API_KEY\")\n",
    "# YOUR CODE HERE\n",
    "alpaca_secret_key = os.getenv(\"ALPACA_SECRET_KEY\")\n",
    "\n",
    "# display(type(alpaca_api_key))\n",
    "# display(type(alpaca_secret_key))\n",
    "# display(alpaca_api_key)\n",
    "# display(alpaca_secret_key)\n",
    "\n",
    "# Create the Alpaca tradeapi.REST object\n",
    "# YOUR CODE HERE\n",
    "alpaca = tradeapi.REST(\n",
    "    alpaca_api_key,\n",
    "    alpaca_secret_key,\n",
    "    api_version = \"v2\")"
   ]
  },
  {
   "cell_type": "markdown",
   "metadata": {},
   "source": [
    "#### Step 3: Set the following parameters for the Alpaca API call:\n",
    "\n",
    "- `tickers`: Use the tickers for the member’s stock and bond holdings.\n",
    "\n",
    "- `timeframe`: Use a time frame of one day.\n",
    "\n",
    "- `start_date` and `end_date`: Use the same date for these parameters, and format them with the date of the previous weekday (or `2020-08-07`). This is because you want the one closing price for the most-recent trading day.\n"
   ]
  },
  {
   "cell_type": "code",
   "execution_count": 15,
   "metadata": {},
   "outputs": [],
   "source": [
    "# Set the tickers for both the bond and stock portion of the portfolio\n",
    "# YOUR CODE HERE\n",
    "tickers = [\"AGG\", \"SPY\"]\n",
    "\n",
    "# Set timeframe to 1D \n",
    "# YOUR CODE HERE\n",
    "timeframe = \"1D\"\n",
    "\n",
    "# Format current date as ISO format\n",
    "# Set both the start and end date at the date of your prior weekday \n",
    "# This will give you the closing price of the previous trading day\n",
    "# Alternatively you can use a start and end date of 2020-08-07\n",
    "# YOUR CODE HERE\n",
    "start_date = pd.Timestamp(\"2021-07-30\", tz=\"America/New_York\").isoformat()\n",
    "# YOUR CODE HERE\n",
    "end_date = pd.Timestamp(\"2021-07-30\", tz=\"America/New_York\").isoformat()"
   ]
  },
  {
   "cell_type": "markdown",
   "metadata": {},
   "source": [
    "#### Step 4: Get the current closing prices for `SPY` and `AGG` by using the Alpaca `get_barset` function. Format the response as a Pandas DataFrame by including the `df` property at the end of the `get_barset` function."
   ]
  },
  {
   "cell_type": "code",
   "execution_count": 16,
   "metadata": {},
   "outputs": [
    {
     "data": {
      "text/html": [
       "<div>\n",
       "<style scoped>\n",
       "    .dataframe tbody tr th:only-of-type {\n",
       "        vertical-align: middle;\n",
       "    }\n",
       "\n",
       "    .dataframe tbody tr th {\n",
       "        vertical-align: top;\n",
       "    }\n",
       "\n",
       "    .dataframe thead tr th {\n",
       "        text-align: left;\n",
       "    }\n",
       "\n",
       "    .dataframe thead tr:last-of-type th {\n",
       "        text-align: right;\n",
       "    }\n",
       "</style>\n",
       "<table border=\"1\" class=\"dataframe\">\n",
       "  <thead>\n",
       "    <tr>\n",
       "      <th></th>\n",
       "      <th colspan=\"5\" halign=\"left\">AGG</th>\n",
       "      <th colspan=\"5\" halign=\"left\">SPY</th>\n",
       "    </tr>\n",
       "    <tr>\n",
       "      <th></th>\n",
       "      <th>open</th>\n",
       "      <th>high</th>\n",
       "      <th>low</th>\n",
       "      <th>close</th>\n",
       "      <th>volume</th>\n",
       "      <th>open</th>\n",
       "      <th>high</th>\n",
       "      <th>low</th>\n",
       "      <th>close</th>\n",
       "      <th>volume</th>\n",
       "    </tr>\n",
       "    <tr>\n",
       "      <th>time</th>\n",
       "      <th></th>\n",
       "      <th></th>\n",
       "      <th></th>\n",
       "      <th></th>\n",
       "      <th></th>\n",
       "      <th></th>\n",
       "      <th></th>\n",
       "      <th></th>\n",
       "      <th></th>\n",
       "      <th></th>\n",
       "    </tr>\n",
       "  </thead>\n",
       "  <tbody>\n",
       "    <tr>\n",
       "      <th>2021-07-30 00:00:00-04:00</th>\n",
       "      <td>116.36</td>\n",
       "      <td>116.485</td>\n",
       "      <td>116.3532</td>\n",
       "      <td>116.45</td>\n",
       "      <td>4859650</td>\n",
       "      <td>437.91</td>\n",
       "      <td>440.06</td>\n",
       "      <td>437.77</td>\n",
       "      <td>438.49</td>\n",
       "      <td>56594282</td>\n",
       "    </tr>\n",
       "  </tbody>\n",
       "</table>\n",
       "</div>"
      ],
      "text/plain": [
       "                              AGG                                         SPY  \\\n",
       "                             open     high       low   close   volume    open   \n",
       "time                                                                            \n",
       "2021-07-30 00:00:00-04:00  116.36  116.485  116.3532  116.45  4859650  437.91   \n",
       "\n",
       "                                                             \n",
       "                             high     low   close    volume  \n",
       "time                                                         \n",
       "2021-07-30 00:00:00-04:00  440.06  437.77  438.49  56594282  "
      ]
     },
     "execution_count": 16,
     "metadata": {},
     "output_type": "execute_result"
    }
   ],
   "source": [
    "# Use the Alpaca get_barset function to get current closing prices the portfolio\n",
    "# Be sure to set the `df` property after the function to format the response object as a DataFrame\n",
    "# YOUR CODE HERE\n",
    "\n",
    "closing_prices_df = alpaca.get_barset(\n",
    "    tickers,\n",
    "    timeframe,\n",
    "    start = start_date,\n",
    "    end = end_date\n",
    ").df\n",
    "\n",
    "# Review the first 5 rows of the Alpaca DataFrame\n",
    "# YOUR CODE HERE\n",
    "closing_prices_df"
   ]
  },
  {
   "cell_type": "markdown",
   "metadata": {},
   "source": [
    "#### Step 5: Navigating the Alpaca response DataFrame, select the `SPY` and `AGG` closing prices, and store them as variables."
   ]
  },
  {
   "cell_type": "code",
   "execution_count": 17,
   "metadata": {},
   "outputs": [
    {
     "name": "stdout",
     "output_type": "stream",
     "text": [
      "The closing price SPY is: $116.45\n"
     ]
    }
   ],
   "source": [
    "# Access the closing price for AGG from the Alpaca DataFrame\n",
    "# Converting the value to a floating point number\n",
    "agg_close_price = float(closing_prices_df[\"AGG\"][\"close\"])\n",
    "\n",
    "# Print the AGG closing price\n",
    "# YOUR CODE HERE\n",
    "print(f\"The closing price {tickers[1]} is: ${agg_close_price:0,.2f}\")"
   ]
  },
  {
   "cell_type": "code",
   "execution_count": 18,
   "metadata": {},
   "outputs": [
    {
     "name": "stdout",
     "output_type": "stream",
     "text": [
      "The closing price AGG is: $438.49\n"
     ]
    }
   ],
   "source": [
    "# Access the closing price for SPY from the Alpaca DataFrame\n",
    "# Converting the value to a floating point number\n",
    "spy_close_price = float(closing_prices_df[\"SPY\"][\"close\"])\n",
    "\n",
    "# Print the SPY closing price\n",
    "# YOUR CODE HERE\n",
    "print(f\"The closing price {tickers[0]} is: ${spy_close_price:0,.2f}\")"
   ]
  },
  {
   "cell_type": "markdown",
   "metadata": {},
   "source": [
    "#### Step 6: Calculate the value, in US dollars, of the current amount of shares in each of the stock and bond portions of the portfolio, and print the results."
   ]
  },
  {
   "cell_type": "code",
   "execution_count": 19,
   "metadata": {},
   "outputs": [
    {
     "name": "stdout",
     "output_type": "stream",
     "text": [
      "The current value of the bond portfolio is: $23,290.00\n"
     ]
    }
   ],
   "source": [
    "# Calculate the current value of the bond portion of the portfolio\n",
    "agg_value = agg_close_price * agg_shares\n",
    "\n",
    "# Print the current value of the bond portfolio\n",
    "# YOUR CODE HERE\n",
    "print(f\"The current value of the bond portfolio is: ${agg_value:0,.2f}\")"
   ]
  },
  {
   "cell_type": "code",
   "execution_count": 20,
   "metadata": {},
   "outputs": [
    {
     "name": "stdout",
     "output_type": "stream",
     "text": [
      "The current value of the bond portfolio is: $48,233.90\n"
     ]
    }
   ],
   "source": [
    "# Calculate the current value of the stock portion of the portfolio\n",
    "spy_value = spy_close_price * spy_shares\n",
    "\n",
    "# Print the current value of the stock portfolio\n",
    "# YOUR CODE HERE\n",
    "print(f\"The current value of the bond portfolio is: ${spy_value:0,.2f}\")"
   ]
  },
  {
   "cell_type": "code",
   "execution_count": 21,
   "metadata": {},
   "outputs": [
    {
     "name": "stdout",
     "output_type": "stream",
     "text": [
      "The total value of Stock & Bond portfolio is: $71,523.90\n"
     ]
    }
   ],
   "source": [
    "# Calculate the total value of the stock and bond portion of the portfolio\n",
    "total_stocks_bonds = agg_value + spy_value\n",
    "\n",
    "# Print the current balance of the stock and bond portion of the portfolio\n",
    "# YOUR CODE HERE\n",
    "print(f\"The total value of Stock & Bond portfolio is: ${total_stocks_bonds:0,.2f}\")"
   ]
  },
  {
   "cell_type": "code",
   "execution_count": 22,
   "metadata": {},
   "outputs": [
    {
     "name": "stdout",
     "output_type": "stream",
     "text": [
      "The total value of member's entire savinfs portfolio is: $132,833.05\n"
     ]
    }
   ],
   "source": [
    "# Calculate the total value of the member's entire savings portfolio\n",
    "# Add the value of the cryptocurrency walled to the value of the total stocks and bonds\n",
    "total_portfolio_value = total_crypto_wallet + total_stocks_bonds\n",
    "\n",
    "# Print current cryptocurrency wallet balance\n",
    "# YOUR CODE HERE\n",
    "print(f\"The total value of member's entire savinfs portfolio is: ${total_portfolio_value:0,.2f}\")"
   ]
  },
  {
   "cell_type": "markdown",
   "metadata": {},
   "source": [
    "### Evaluate the Emergency Fund\n",
    "\n",
    "In this section, you’ll use the valuations for the cryptocurrency wallet and for the stock and bond portions of the portfolio to determine if the credit union member has enough savings to build an emergency fund into their financial plan. To do this, complete the following steps:\n",
    "\n",
    "1. Create a Python list named `savings_data` that has two elements. The first element contains the total value of the cryptocurrency wallet. The second element contains the total value of the stock and bond portions of the portfolio.\n",
    "\n",
    "2. Use the `savings_data` list to create a Pandas DataFrame named `savings_df`, and then display this DataFrame. The function to create the DataFrame should take the following three parameters:\n",
    "\n",
    "    - `savings_data`: Use the list that you just created.\n",
    "\n",
    "    - `columns`: Set this parameter equal to a Python list with a single value called `amount`.\n",
    "\n",
    "    - `index`: Set this parameter equal to a Python list with the values of `crypto` and `stock/bond`.\n",
    "\n",
    "3. Use the `savings_df` DataFrame to plot a pie chart that visualizes the composition of the member’s portfolio. The y-axis of the pie chart uses `amount`. Be sure to add a title.\n",
    "\n",
    "4. Using Python, determine if the current portfolio has enough to create an emergency fund as part of the member’s financial plan. Ideally, an emergency fund should equal to three times the member’s monthly income. To do this, implement the following steps:\n",
    "\n",
    "    1. Create a variable named `emergency_fund_value`, and set it equal to three times the value of the member’s `monthly_income` of $12000. (You set this earlier in Part 1).\n",
    "\n",
    "    2. Create a series of three if statements to determine if the member’s total portfolio is large enough to fund the emergency portfolio:\n",
    "\n",
    "        1. If the total portfolio value is greater than the emergency fund value, display a message congratulating the member for having enough money in this fund.\n",
    "\n",
    "        2. Else if the total portfolio value is equal to the emergency fund value, display a message congratulating the member on reaching this important financial goal.\n",
    "\n",
    "        3. Else the total portfolio is less than the emergency fund value, so display a message showing how many dollars away the member is from reaching the goal. (Subtract the total portfolio value from the emergency fund value.)\n"
   ]
  },
  {
   "cell_type": "markdown",
   "metadata": {},
   "source": [
    "#### Step 1: Create a Python list named `savings_data` that has two elements. The first element contains the total value of the cryptocurrency wallet. The second element contains the total value of the stock and bond portions of the portfolio."
   ]
  },
  {
   "cell_type": "code",
   "execution_count": 23,
   "metadata": {},
   "outputs": [
    {
     "data": {
      "text/plain": [
       "[61309.15, 71523.9]"
      ]
     },
     "execution_count": 23,
     "metadata": {},
     "output_type": "execute_result"
    }
   ],
   "source": [
    "# Consolidate financial assets data into a Python list\n",
    "# YOUR CODE HERE\n",
    "savings_data = [total_crypto_wallet, total_stocks_bonds]\n",
    "# Review the Python list savings_data\n",
    "# YOUR CODE HERE\n",
    "savings_data"
   ]
  },
  {
   "cell_type": "markdown",
   "metadata": {},
   "source": [
    "#### Step 2: Use the `savings_data` list to create a Pandas DataFrame named `savings_df`, and then display this DataFrame. The function to create the DataFrame should take the following three parameters:\n",
    "\n",
    "- `savings_data`: Use the list that you just created.\n",
    "\n",
    "- `columns`: Set this parameter equal to a Python list with a single value called `amount`.\n",
    "\n",
    "- `index`: Set this parameter equal to a Python list with the values of `crypto` and `stock/bond`.\n"
   ]
  },
  {
   "cell_type": "code",
   "execution_count": 24,
   "metadata": {},
   "outputs": [
    {
     "data": {
      "text/html": [
       "<div>\n",
       "<style scoped>\n",
       "    .dataframe tbody tr th:only-of-type {\n",
       "        vertical-align: middle;\n",
       "    }\n",
       "\n",
       "    .dataframe tbody tr th {\n",
       "        vertical-align: top;\n",
       "    }\n",
       "\n",
       "    .dataframe thead th {\n",
       "        text-align: right;\n",
       "    }\n",
       "</style>\n",
       "<table border=\"1\" class=\"dataframe\">\n",
       "  <thead>\n",
       "    <tr style=\"text-align: right;\">\n",
       "      <th></th>\n",
       "      <th>amount</th>\n",
       "    </tr>\n",
       "  </thead>\n",
       "  <tbody>\n",
       "    <tr>\n",
       "      <th>crypto</th>\n",
       "      <td>61309.15</td>\n",
       "    </tr>\n",
       "    <tr>\n",
       "      <th>stock/bond</th>\n",
       "      <td>71523.90</td>\n",
       "    </tr>\n",
       "  </tbody>\n",
       "</table>\n",
       "</div>"
      ],
      "text/plain": [
       "              amount\n",
       "crypto      61309.15\n",
       "stock/bond  71523.90"
      ]
     },
     "execution_count": 24,
     "metadata": {},
     "output_type": "execute_result"
    }
   ],
   "source": [
    "# Create a Pandas DataFrame called savings_df \n",
    "# YOUR CODE HERE\n",
    "def create_dataframe(sav_data, cols, indx):\n",
    "    the_df = pd.DataFrame(\n",
    "        {cols[0]: sav_data},\n",
    "        indx\n",
    "   )\n",
    "#     the_df\n",
    "    return the_df\n",
    "\n",
    "# Display the savings_df DataFrame\n",
    "# YOUR CODE HERE\n",
    "columns = [\"amount\"]\n",
    "index = [\"crypto\", \"stock/bond\"]\n",
    "\n",
    "savings_df = create_dataframe(savings_data, columns, index)\n",
    "\n",
    "savings_df"
   ]
  },
  {
   "cell_type": "markdown",
   "metadata": {},
   "source": [
    "#### Step 3: Use the `savings_df` DataFrame to plot a pie chart that visualizes the composition of the member’s portfolio. The y-axis of the pie chart uses `amount`. Be sure to add a title."
   ]
  },
  {
   "cell_type": "code",
   "execution_count": 25,
   "metadata": {},
   "outputs": [
    {
     "data": {
      "text/plain": [
       "<AxesSubplot:title={'center':\"Composition of member's portfolio\"}, ylabel='amount'>"
      ]
     },
     "execution_count": 25,
     "metadata": {},
     "output_type": "execute_result"
    },
    {
     "data": {
      "image/png": "[encoded data removed]",
      "text/plain": [
       "<Figure size 1152x576 with 1 Axes>"
      ]
     },
     "metadata": {},
     "output_type": "display_data"
    }
   ],
   "source": [
    "# Plot the total value of the member's portfolio (crypto and stock/bond) in a pie chart\n",
    "# YOUR CODE HERE\n",
    "savings_df.plot.pie(y=columns[0], title=\"Composition of member's portfolio\", figsize=(16,8))"
   ]
  },
  {
   "cell_type": "markdown",
   "metadata": {},
   "source": [
    "#### Step 4: Using Python, determine if the current portfolio has enough to create an emergency fund as part of the member’s financial plan. Ideally, an emergency fund should equal to three times the member’s monthly income. To do this, implement the following steps:\n",
    "\n",
    "Step 1. Create a variable named `emergency_fund_value`, and set it equal to three times the value of the member’s `monthly_income` of 12000. (You set this earlier in Part 1).\n",
    "\n",
    "Step 2. Create a series of three if statements to determine if the member’s total portfolio is large enough to fund the emergency portfolio:\n",
    "\n",
    "* If the total portfolio value is greater than the emergency fund value, display a message congratulating the member for having enough money in this fund.\n",
    "\n",
    "* Else if the total portfolio value is equal to the emergency fund value, display a message congratulating the member on reaching this important financial goal.\n",
    "\n",
    "* Else the total portfolio is less than the emergency fund value, so display a message showing how many dollars away the member is from reaching the goal. (Subtract the total portfolio value from the emergency fund value.)\n"
   ]
  },
  {
   "cell_type": "markdown",
   "metadata": {},
   "source": [
    "##### Step 4-1: Create a variable named `emergency_fund_value`, and set it equal to three times the value of the member’s `monthly_income` of 12000. (You set this earlier in Part 1)."
   ]
  },
  {
   "cell_type": "code",
   "execution_count": 26,
   "metadata": {},
   "outputs": [],
   "source": [
    "# Create a variable named emergency_fund_value\n",
    "# YOUR CODE HERE\n",
    "emergency_fund_value = 3 * monthly_income\n",
    "# emergency_fund_value"
   ]
  },
  {
   "cell_type": "markdown",
   "metadata": {},
   "source": [
    "##### Step 4-2: Create a series of three if statements to determine if the member’s total portfolio is large enough to fund the emergency portfolio:\n",
    "\n",
    "* If the total portfolio value is greater than the emergency fund value, display a message congratulating the member for having enough money in this fund.\n",
    "\n",
    "* Else if the total portfolio value is equal to the emergency fund value, display a message congratulating the member on reaching this important financial goal.\n",
    "\n",
    "* Else the total portfolio is less than the emergency fund value, so display a message showing how many dollars away the member is from reaching the goal. (Subtract the total portfolio value from the emergency fund value.)"
   ]
  },
  {
   "cell_type": "code",
   "execution_count": 27,
   "metadata": {},
   "outputs": [
    {
     "name": "stdout",
     "output_type": "stream",
     "text": [
      "Congratulations on having enough money in the portfolio to be able to maintain an Emergency Fund!\n"
     ]
    }
   ],
   "source": [
    "# Evaluate the possibility of creating an emergency fund with 3 conditions:\n",
    "# YOUR CODE HERE\n",
    "if (total_portfolio_value > emergency_fund_value):\n",
    "    print(\"Congratulations on having enough money in the portfolio to be able to maintain an Emergency Fund!\")\n",
    "elif (total_portfolio_value == emergency_fund_value):\n",
    "    # YOUR CODE HERE\n",
    "    print(\"Congratulations on reaching your financial goal.\")\n",
    "else:\n",
    "    # YOUR CODE HERE\n",
    "    shortage = emergency_fund_value - total_portfolio_value\n",
    "    print(f\"In order to create your emergency fund, you still need ${shortage:,.2f}\")"
   ]
  },
  {
   "cell_type": "markdown",
   "metadata": {},
   "source": [
    "## Part 2: Create a Financial Planner for Retirement"
   ]
  },
  {
   "cell_type": "markdown",
   "metadata": {},
   "source": [
    "### Create the Monte Carlo Simulation\n",
    "\n",
    "In this section, you’ll use the MCForecastTools library to create a Monte Carlo simulation for the member’s savings portfolio. To do this, complete the following steps:\n",
    "\n",
    "1. Make an API call via the Alpaca SDK to get 10 years of historical closing prices for a traditional 60/40 portfolio split: 60% stocks (SPY) and 40% bonds (AGG).\n",
    "\n",
    "2. Run a Monte Carlo simulation of 500 samples and 30 years for the 60/40 portfolio, and then plot the results.The following image shows the overlay line plot resulting from a simulation with these characteristics. However, because a random number generator is used to run each live Monte Carlo simulation, your image will differ slightly from this exact image:\n",
    "\n",
    "![A screenshot depicts the resulting plot.](Images/5-4-monte-carlo-line-plot.png)\n",
    "\n",
    "3. Plot the probability distribution of the Monte Carlo simulation. Plot the probability distribution of the Monte Carlo simulation. The following image shows the histogram plot resulting from a simulation with these characteristics. However, because a random number generator is used to run each live Monte Carlo simulation, your image will differ slightly from this exact image:\n",
    "\n",
    "![A screenshot depicts the histogram plot.](Images/5-4-monte-carlo-histogram.png)\n",
    "\n",
    "4. Generate the summary statistics for the Monte Carlo simulation.\n",
    "\n"
   ]
  },
  {
   "cell_type": "markdown",
   "metadata": {},
   "source": [
    "#### Step 1: Make an API call via the Alpaca SDK to get 10 years of historical closing prices for a traditional 60/40 portfolio split: 60% stocks (SPY) and 40% bonds (AGG)."
   ]
  },
  {
   "cell_type": "code",
   "execution_count": 28,
   "metadata": {},
   "outputs": [],
   "source": [
    "# Set start and end dates of 10 years back from your current date\n",
    "# Alternatively, you can use an end date of 2020-08-07 and work 10 years back from that date \n",
    "# YOUR CODE HERE\n",
    "start_date = pd.Timestamp(\"2011-07-30\", tz=\"America/New_York\").isoformat()\n",
    "# YOUR CODE HERE\n",
    "end_date = pd.Timestamp(\"2021-07-30\", tz=\"America/New_York\").isoformat()"
   ]
  },
  {
   "cell_type": "code",
   "execution_count": 29,
   "metadata": {},
   "outputs": [
    {
     "data": {
      "text/html": [
       "<div>\n",
       "<style scoped>\n",
       "    .dataframe tbody tr th:only-of-type {\n",
       "        vertical-align: middle;\n",
       "    }\n",
       "\n",
       "    .dataframe tbody tr th {\n",
       "        vertical-align: top;\n",
       "    }\n",
       "\n",
       "    .dataframe thead tr th {\n",
       "        text-align: left;\n",
       "    }\n",
       "\n",
       "    .dataframe thead tr:last-of-type th {\n",
       "        text-align: right;\n",
       "    }\n",
       "</style>\n",
       "<table border=\"1\" class=\"dataframe\">\n",
       "  <thead>\n",
       "    <tr>\n",
       "      <th></th>\n",
       "      <th colspan=\"5\" halign=\"left\">AGG</th>\n",
       "      <th colspan=\"5\" halign=\"left\">SPY</th>\n",
       "    </tr>\n",
       "    <tr>\n",
       "      <th></th>\n",
       "      <th>open</th>\n",
       "      <th>high</th>\n",
       "      <th>low</th>\n",
       "      <th>close</th>\n",
       "      <th>volume</th>\n",
       "      <th>open</th>\n",
       "      <th>high</th>\n",
       "      <th>low</th>\n",
       "      <th>close</th>\n",
       "      <th>volume</th>\n",
       "    </tr>\n",
       "    <tr>\n",
       "      <th>time</th>\n",
       "      <th></th>\n",
       "      <th></th>\n",
       "      <th></th>\n",
       "      <th></th>\n",
       "      <th></th>\n",
       "      <th></th>\n",
       "      <th></th>\n",
       "      <th></th>\n",
       "      <th></th>\n",
       "      <th></th>\n",
       "    </tr>\n",
       "  </thead>\n",
       "  <tbody>\n",
       "    <tr>\n",
       "      <th>2021-03-10 00:00:00-05:00</th>\n",
       "      <td>114.30</td>\n",
       "      <td>114.500</td>\n",
       "      <td>114.275</td>\n",
       "      <td>114.45</td>\n",
       "      <td>6270242</td>\n",
       "      <td>389.69</td>\n",
       "      <td>391.400</td>\n",
       "      <td>388.1702</td>\n",
       "      <td>389.5199</td>\n",
       "      <td>101349197</td>\n",
       "    </tr>\n",
       "    <tr>\n",
       "      <th>2021-03-11 00:00:00-05:00</th>\n",
       "      <td>114.47</td>\n",
       "      <td>114.540</td>\n",
       "      <td>114.295</td>\n",
       "      <td>114.44</td>\n",
       "      <td>5740793</td>\n",
       "      <td>392.23</td>\n",
       "      <td>395.650</td>\n",
       "      <td>391.7400</td>\n",
       "      <td>393.5000</td>\n",
       "      <td>77022138</td>\n",
       "    </tr>\n",
       "    <tr>\n",
       "      <th>2021-03-12 00:00:00-05:00</th>\n",
       "      <td>113.88</td>\n",
       "      <td>113.910</td>\n",
       "      <td>113.705</td>\n",
       "      <td>113.79</td>\n",
       "      <td>4339393</td>\n",
       "      <td>392.07</td>\n",
       "      <td>394.210</td>\n",
       "      <td>391.2000</td>\n",
       "      <td>394.0900</td>\n",
       "      <td>56997361</td>\n",
       "    </tr>\n",
       "    <tr>\n",
       "      <th>2021-03-15 00:00:00-04:00</th>\n",
       "      <td>113.60</td>\n",
       "      <td>114.010</td>\n",
       "      <td>113.600</td>\n",
       "      <td>113.94</td>\n",
       "      <td>4210749</td>\n",
       "      <td>394.33</td>\n",
       "      <td>396.685</td>\n",
       "      <td>392.0300</td>\n",
       "      <td>396.4700</td>\n",
       "      <td>64471980</td>\n",
       "    </tr>\n",
       "    <tr>\n",
       "      <th>2021-03-16 00:00:00-04:00</th>\n",
       "      <td>113.97</td>\n",
       "      <td>114.032</td>\n",
       "      <td>113.780</td>\n",
       "      <td>113.87</td>\n",
       "      <td>3977851</td>\n",
       "      <td>397.07</td>\n",
       "      <td>397.830</td>\n",
       "      <td>395.0800</td>\n",
       "      <td>395.9400</td>\n",
       "      <td>65719794</td>\n",
       "    </tr>\n",
       "  </tbody>\n",
       "</table>\n",
       "</div>"
      ],
      "text/plain": [
       "                              AGG                                        SPY  \\\n",
       "                             open     high      low   close   volume    open   \n",
       "time                                                                           \n",
       "2021-03-10 00:00:00-05:00  114.30  114.500  114.275  114.45  6270242  389.69   \n",
       "2021-03-11 00:00:00-05:00  114.47  114.540  114.295  114.44  5740793  392.23   \n",
       "2021-03-12 00:00:00-05:00  113.88  113.910  113.705  113.79  4339393  392.07   \n",
       "2021-03-15 00:00:00-04:00  113.60  114.010  113.600  113.94  4210749  394.33   \n",
       "2021-03-16 00:00:00-04:00  113.97  114.032  113.780  113.87  3977851  397.07   \n",
       "\n",
       "                                                                   \n",
       "                              high       low     close     volume  \n",
       "time                                                               \n",
       "2021-03-10 00:00:00-05:00  391.400  388.1702  389.5199  101349197  \n",
       "2021-03-11 00:00:00-05:00  395.650  391.7400  393.5000   77022138  \n",
       "2021-03-12 00:00:00-05:00  394.210  391.2000  394.0900   56997361  \n",
       "2021-03-15 00:00:00-04:00  396.685  392.0300  396.4700   64471980  \n",
       "2021-03-16 00:00:00-04:00  397.830  395.0800  395.9400   65719794  "
      ]
     },
     "metadata": {},
     "output_type": "display_data"
    },
    {
     "data": {
      "text/html": [
       "<div>\n",
       "<style scoped>\n",
       "    .dataframe tbody tr th:only-of-type {\n",
       "        vertical-align: middle;\n",
       "    }\n",
       "\n",
       "    .dataframe tbody tr th {\n",
       "        vertical-align: top;\n",
       "    }\n",
       "\n",
       "    .dataframe thead tr th {\n",
       "        text-align: left;\n",
       "    }\n",
       "\n",
       "    .dataframe thead tr:last-of-type th {\n",
       "        text-align: right;\n",
       "    }\n",
       "</style>\n",
       "<table border=\"1\" class=\"dataframe\">\n",
       "  <thead>\n",
       "    <tr>\n",
       "      <th></th>\n",
       "      <th colspan=\"5\" halign=\"left\">AGG</th>\n",
       "      <th colspan=\"5\" halign=\"left\">SPY</th>\n",
       "    </tr>\n",
       "    <tr>\n",
       "      <th></th>\n",
       "      <th>open</th>\n",
       "      <th>high</th>\n",
       "      <th>low</th>\n",
       "      <th>close</th>\n",
       "      <th>volume</th>\n",
       "      <th>open</th>\n",
       "      <th>high</th>\n",
       "      <th>low</th>\n",
       "      <th>close</th>\n",
       "      <th>volume</th>\n",
       "    </tr>\n",
       "    <tr>\n",
       "      <th>time</th>\n",
       "      <th></th>\n",
       "      <th></th>\n",
       "      <th></th>\n",
       "      <th></th>\n",
       "      <th></th>\n",
       "      <th></th>\n",
       "      <th></th>\n",
       "      <th></th>\n",
       "      <th></th>\n",
       "      <th></th>\n",
       "    </tr>\n",
       "  </thead>\n",
       "  <tbody>\n",
       "    <tr>\n",
       "      <th>2021-07-26 00:00:00-04:00</th>\n",
       "      <td>116.30</td>\n",
       "      <td>116.330</td>\n",
       "      <td>116.0850</td>\n",
       "      <td>116.11</td>\n",
       "      <td>7028009</td>\n",
       "      <td>439.31</td>\n",
       "      <td>441.03</td>\n",
       "      <td>439.26</td>\n",
       "      <td>440.99</td>\n",
       "      <td>40155852</td>\n",
       "    </tr>\n",
       "    <tr>\n",
       "      <th>2021-07-27 00:00:00-04:00</th>\n",
       "      <td>116.35</td>\n",
       "      <td>116.400</td>\n",
       "      <td>116.2727</td>\n",
       "      <td>116.39</td>\n",
       "      <td>4669859</td>\n",
       "      <td>439.91</td>\n",
       "      <td>439.94</td>\n",
       "      <td>435.99</td>\n",
       "      <td>439.00</td>\n",
       "      <td>61032234</td>\n",
       "    </tr>\n",
       "    <tr>\n",
       "      <th>2021-07-28 00:00:00-04:00</th>\n",
       "      <td>116.24</td>\n",
       "      <td>116.490</td>\n",
       "      <td>116.1400</td>\n",
       "      <td>116.48</td>\n",
       "      <td>5189696</td>\n",
       "      <td>439.68</td>\n",
       "      <td>440.30</td>\n",
       "      <td>437.31</td>\n",
       "      <td>438.84</td>\n",
       "      <td>47642330</td>\n",
       "    </tr>\n",
       "    <tr>\n",
       "      <th>2021-07-29 00:00:00-04:00</th>\n",
       "      <td>116.29</td>\n",
       "      <td>116.360</td>\n",
       "      <td>116.2250</td>\n",
       "      <td>116.28</td>\n",
       "      <td>5216456</td>\n",
       "      <td>439.83</td>\n",
       "      <td>441.80</td>\n",
       "      <td>439.81</td>\n",
       "      <td>440.67</td>\n",
       "      <td>40930880</td>\n",
       "    </tr>\n",
       "    <tr>\n",
       "      <th>2021-07-30 00:00:00-04:00</th>\n",
       "      <td>116.36</td>\n",
       "      <td>116.485</td>\n",
       "      <td>116.3532</td>\n",
       "      <td>116.45</td>\n",
       "      <td>4859650</td>\n",
       "      <td>437.91</td>\n",
       "      <td>440.06</td>\n",
       "      <td>437.77</td>\n",
       "      <td>438.49</td>\n",
       "      <td>56594282</td>\n",
       "    </tr>\n",
       "  </tbody>\n",
       "</table>\n",
       "</div>"
      ],
      "text/plain": [
       "                              AGG                                         SPY  \\\n",
       "                             open     high       low   close   volume    open   \n",
       "time                                                                            \n",
       "2021-07-26 00:00:00-04:00  116.30  116.330  116.0850  116.11  7028009  439.31   \n",
       "2021-07-27 00:00:00-04:00  116.35  116.400  116.2727  116.39  4669859  439.91   \n",
       "2021-07-28 00:00:00-04:00  116.24  116.490  116.1400  116.48  5189696  439.68   \n",
       "2021-07-29 00:00:00-04:00  116.29  116.360  116.2250  116.28  5216456  439.83   \n",
       "2021-07-30 00:00:00-04:00  116.36  116.485  116.3532  116.45  4859650  437.91   \n",
       "\n",
       "                                                             \n",
       "                             high     low   close    volume  \n",
       "time                                                         \n",
       "2021-07-26 00:00:00-04:00  441.03  439.26  440.99  40155852  \n",
       "2021-07-27 00:00:00-04:00  439.94  435.99  439.00  61032234  \n",
       "2021-07-28 00:00:00-04:00  440.30  437.31  438.84  47642330  \n",
       "2021-07-29 00:00:00-04:00  441.80  439.81  440.67  40930880  \n",
       "2021-07-30 00:00:00-04:00  440.06  437.77  438.49  56594282  "
      ]
     },
     "metadata": {},
     "output_type": "display_data"
    }
   ],
   "source": [
    "# Use the Alpaca get_barset function to make the API call to get the 10 years worth of pricing data\n",
    "# The tickers and timeframe parameters should have been set in Part 1 of this activity \n",
    "# The start and end dates should be updated with the information set above\n",
    "# Remember to add the df property to the end of the call so the response is returned as a DataFrame\n",
    "# YOUR CODE HERE\n",
    "prices_df = alpaca.get_barset(\n",
    "    tickers,\n",
    "    timeframe,\n",
    "    start = start_date,\n",
    "    end = end_date\n",
    ").df\n",
    "\n",
    "# Display both the first and last five rows of the DataFrame\n",
    "# YOUR CODE HERE\n",
    "display(prices_df.head())\n",
    "# YOUR CODE HERE\n",
    "display(prices_df.tail())"
   ]
  },
  {
   "cell_type": "markdown",
   "metadata": {},
   "source": [
    "#### Step 2: Run a Monte Carlo simulation of 500 samples and 30 years for the 60/40 portfolio, and then plot the results."
   ]
  },
  {
   "cell_type": "code",
   "execution_count": 30,
   "metadata": {},
   "outputs": [
    {
     "data": {
      "text/html": [
       "<div>\n",
       "<style scoped>\n",
       "    .dataframe tbody tr th:only-of-type {\n",
       "        vertical-align: middle;\n",
       "    }\n",
       "\n",
       "    .dataframe tbody tr th {\n",
       "        vertical-align: top;\n",
       "    }\n",
       "\n",
       "    .dataframe thead tr th {\n",
       "        text-align: left;\n",
       "    }\n",
       "\n",
       "    .dataframe thead tr:last-of-type th {\n",
       "        text-align: right;\n",
       "    }\n",
       "</style>\n",
       "<table border=\"1\" class=\"dataframe\">\n",
       "  <thead>\n",
       "    <tr>\n",
       "      <th></th>\n",
       "      <th colspan=\"6\" halign=\"left\">AGG</th>\n",
       "      <th colspan=\"6\" halign=\"left\">SPY</th>\n",
       "    </tr>\n",
       "    <tr>\n",
       "      <th></th>\n",
       "      <th>open</th>\n",
       "      <th>high</th>\n",
       "      <th>low</th>\n",
       "      <th>close</th>\n",
       "      <th>volume</th>\n",
       "      <th>daily_return</th>\n",
       "      <th>open</th>\n",
       "      <th>high</th>\n",
       "      <th>low</th>\n",
       "      <th>close</th>\n",
       "      <th>volume</th>\n",
       "      <th>daily_return</th>\n",
       "    </tr>\n",
       "    <tr>\n",
       "      <th>time</th>\n",
       "      <th></th>\n",
       "      <th></th>\n",
       "      <th></th>\n",
       "      <th></th>\n",
       "      <th></th>\n",
       "      <th></th>\n",
       "      <th></th>\n",
       "      <th></th>\n",
       "      <th></th>\n",
       "      <th></th>\n",
       "      <th></th>\n",
       "      <th></th>\n",
       "    </tr>\n",
       "  </thead>\n",
       "  <tbody>\n",
       "    <tr>\n",
       "      <th>2021-03-10 00:00:00-05:00</th>\n",
       "      <td>114.30</td>\n",
       "      <td>114.500</td>\n",
       "      <td>114.275</td>\n",
       "      <td>114.45</td>\n",
       "      <td>6270242</td>\n",
       "      <td>NaN</td>\n",
       "      <td>389.69</td>\n",
       "      <td>391.400</td>\n",
       "      <td>388.1702</td>\n",
       "      <td>389.5199</td>\n",
       "      <td>101349197</td>\n",
       "      <td>NaN</td>\n",
       "    </tr>\n",
       "    <tr>\n",
       "      <th>2021-03-11 00:00:00-05:00</th>\n",
       "      <td>114.47</td>\n",
       "      <td>114.540</td>\n",
       "      <td>114.295</td>\n",
       "      <td>114.44</td>\n",
       "      <td>5740793</td>\n",
       "      <td>-0.000087</td>\n",
       "      <td>392.23</td>\n",
       "      <td>395.650</td>\n",
       "      <td>391.7400</td>\n",
       "      <td>393.5000</td>\n",
       "      <td>77022138</td>\n",
       "      <td>0.010218</td>\n",
       "    </tr>\n",
       "    <tr>\n",
       "      <th>2021-03-12 00:00:00-05:00</th>\n",
       "      <td>113.88</td>\n",
       "      <td>113.910</td>\n",
       "      <td>113.705</td>\n",
       "      <td>113.79</td>\n",
       "      <td>4339393</td>\n",
       "      <td>-0.005680</td>\n",
       "      <td>392.07</td>\n",
       "      <td>394.210</td>\n",
       "      <td>391.2000</td>\n",
       "      <td>394.0900</td>\n",
       "      <td>56997361</td>\n",
       "      <td>0.001499</td>\n",
       "    </tr>\n",
       "    <tr>\n",
       "      <th>2021-03-15 00:00:00-04:00</th>\n",
       "      <td>113.60</td>\n",
       "      <td>114.010</td>\n",
       "      <td>113.600</td>\n",
       "      <td>113.94</td>\n",
       "      <td>4210749</td>\n",
       "      <td>0.001318</td>\n",
       "      <td>394.33</td>\n",
       "      <td>396.685</td>\n",
       "      <td>392.0300</td>\n",
       "      <td>396.4700</td>\n",
       "      <td>64471980</td>\n",
       "      <td>0.006039</td>\n",
       "    </tr>\n",
       "    <tr>\n",
       "      <th>2021-03-16 00:00:00-04:00</th>\n",
       "      <td>113.97</td>\n",
       "      <td>114.032</td>\n",
       "      <td>113.780</td>\n",
       "      <td>113.87</td>\n",
       "      <td>3977851</td>\n",
       "      <td>-0.000614</td>\n",
       "      <td>397.07</td>\n",
       "      <td>397.830</td>\n",
       "      <td>395.0800</td>\n",
       "      <td>395.9400</td>\n",
       "      <td>65719794</td>\n",
       "      <td>-0.001337</td>\n",
       "    </tr>\n",
       "  </tbody>\n",
       "</table>\n",
       "</div>"
      ],
      "text/plain": [
       "                              AGG                                     \\\n",
       "                             open     high      low   close   volume   \n",
       "time                                                                   \n",
       "2021-03-10 00:00:00-05:00  114.30  114.500  114.275  114.45  6270242   \n",
       "2021-03-11 00:00:00-05:00  114.47  114.540  114.295  114.44  5740793   \n",
       "2021-03-12 00:00:00-05:00  113.88  113.910  113.705  113.79  4339393   \n",
       "2021-03-15 00:00:00-04:00  113.60  114.010  113.600  113.94  4210749   \n",
       "2021-03-16 00:00:00-04:00  113.97  114.032  113.780  113.87  3977851   \n",
       "\n",
       "                                           SPY                               \\\n",
       "                          daily_return    open     high       low     close   \n",
       "time                                                                          \n",
       "2021-03-10 00:00:00-05:00          NaN  389.69  391.400  388.1702  389.5199   \n",
       "2021-03-11 00:00:00-05:00    -0.000087  392.23  395.650  391.7400  393.5000   \n",
       "2021-03-12 00:00:00-05:00    -0.005680  392.07  394.210  391.2000  394.0900   \n",
       "2021-03-15 00:00:00-04:00     0.001318  394.33  396.685  392.0300  396.4700   \n",
       "2021-03-16 00:00:00-04:00    -0.000614  397.07  397.830  395.0800  395.9400   \n",
       "\n",
       "                                                   \n",
       "                              volume daily_return  \n",
       "time                                               \n",
       "2021-03-10 00:00:00-05:00  101349197          NaN  \n",
       "2021-03-11 00:00:00-05:00   77022138     0.010218  \n",
       "2021-03-12 00:00:00-05:00   56997361     0.001499  \n",
       "2021-03-15 00:00:00-04:00   64471980     0.006039  \n",
       "2021-03-16 00:00:00-04:00   65719794    -0.001337  "
      ]
     },
     "execution_count": 30,
     "metadata": {},
     "output_type": "execute_result"
    }
   ],
   "source": [
    "# Configure the Monte Carlo simulation to forecast 30 years cumulative returns\n",
    "# The weights should be split 40% to AGG and 60% to SPY.\n",
    "# Run 500 samples.\n",
    "# YOUR CODE HERE\n",
    "mc_sim = MCSimulation(\n",
    "    portfolio_data = prices_df,\n",
    "    weights = [.40, .60],\n",
    "    num_simulation = 500,\n",
    "    num_trading_days = 252*10\n",
    ")\n",
    "# Review the simulation input data\n",
    "# YOUR CODE HERE\n",
    "mc_sim.portfolio_data.head()"
   ]
  },
  {
   "cell_type": "code",
   "execution_count": 31,
   "metadata": {},
   "outputs": [
    {
     "name": "stdout",
     "output_type": "stream",
     "text": [
      "Running Monte Carlo simulation number 0.\n",
      "Running Monte Carlo simulation number 10.\n",
      "Running Monte Carlo simulation number 20.\n",
      "Running Monte Carlo simulation number 30.\n",
      "Running Monte Carlo simulation number 40.\n",
      "Running Monte Carlo simulation number 50.\n",
      "Running Monte Carlo simulation number 60.\n",
      "Running Monte Carlo simulation number 70.\n",
      "Running Monte Carlo simulation number 80.\n",
      "Running Monte Carlo simulation number 90.\n",
      "Running Monte Carlo simulation number 100.\n",
      "Running Monte Carlo simulation number 110.\n",
      "Running Monte Carlo simulation number 120.\n",
      "Running Monte Carlo simulation number 130.\n",
      "Running Monte Carlo simulation number 140.\n",
      "Running Monte Carlo simulation number 150.\n",
      "Running Monte Carlo simulation number 160.\n",
      "Running Monte Carlo simulation number 170.\n",
      "Running Monte Carlo simulation number 180.\n",
      "Running Monte Carlo simulation number 190.\n",
      "Running Monte Carlo simulation number 200.\n",
      "Running Monte Carlo simulation number 210.\n",
      "Running Monte Carlo simulation number 220.\n",
      "Running Monte Carlo simulation number 230.\n",
      "Running Monte Carlo simulation number 240.\n",
      "Running Monte Carlo simulation number 250.\n",
      "Running Monte Carlo simulation number 260.\n",
      "Running Monte Carlo simulation number 270.\n",
      "Running Monte Carlo simulation number 280.\n",
      "Running Monte Carlo simulation number 290.\n",
      "Running Monte Carlo simulation number 300.\n",
      "Running Monte Carlo simulation number 310.\n",
      "Running Monte Carlo simulation number 320.\n",
      "Running Monte Carlo simulation number 330.\n",
      "Running Monte Carlo simulation number 340.\n",
      "Running Monte Carlo simulation number 350.\n",
      "Running Monte Carlo simulation number 360.\n",
      "Running Monte Carlo simulation number 370.\n",
      "Running Monte Carlo simulation number 380.\n",
      "Running Monte Carlo simulation number 390.\n",
      "Running Monte Carlo simulation number 400.\n",
      "Running Monte Carlo simulation number 410.\n",
      "Running Monte Carlo simulation number 420.\n",
      "Running Monte Carlo simulation number 430.\n",
      "Running Monte Carlo simulation number 440.\n",
      "Running Monte Carlo simulation number 450.\n",
      "Running Monte Carlo simulation number 460.\n",
      "Running Monte Carlo simulation number 470.\n",
      "Running Monte Carlo simulation number 480.\n",
      "Running Monte Carlo simulation number 490.\n"
     ]
    },
    {
     "data": {
      "text/html": [
       "<div>\n",
       "<style scoped>\n",
       "    .dataframe tbody tr th:only-of-type {\n",
       "        vertical-align: middle;\n",
       "    }\n",
       "\n",
       "    .dataframe tbody tr th {\n",
       "        vertical-align: top;\n",
       "    }\n",
       "\n",
       "    .dataframe thead th {\n",
       "        text-align: right;\n",
       "    }\n",
       "</style>\n",
       "<table border=\"1\" class=\"dataframe\">\n",
       "  <thead>\n",
       "    <tr style=\"text-align: right;\">\n",
       "      <th></th>\n",
       "      <th>0</th>\n",
       "      <th>1</th>\n",
       "      <th>2</th>\n",
       "      <th>3</th>\n",
       "      <th>4</th>\n",
       "      <th>5</th>\n",
       "      <th>6</th>\n",
       "      <th>7</th>\n",
       "      <th>8</th>\n",
       "      <th>9</th>\n",
       "      <th>...</th>\n",
       "      <th>490</th>\n",
       "      <th>491</th>\n",
       "      <th>492</th>\n",
       "      <th>493</th>\n",
       "      <th>494</th>\n",
       "      <th>495</th>\n",
       "      <th>496</th>\n",
       "      <th>497</th>\n",
       "      <th>498</th>\n",
       "      <th>499</th>\n",
       "    </tr>\n",
       "  </thead>\n",
       "  <tbody>\n",
       "    <tr>\n",
       "      <th>0</th>\n",
       "      <td>1.000000</td>\n",
       "      <td>1.000000</td>\n",
       "      <td>1.000000</td>\n",
       "      <td>1.000000</td>\n",
       "      <td>1.000000</td>\n",
       "      <td>1.000000</td>\n",
       "      <td>1.000000</td>\n",
       "      <td>1.000000</td>\n",
       "      <td>1.000000</td>\n",
       "      <td>1.000000</td>\n",
       "      <td>...</td>\n",
       "      <td>1.000000</td>\n",
       "      <td>1.000000</td>\n",
       "      <td>1.000000</td>\n",
       "      <td>1.000000</td>\n",
       "      <td>1.000000</td>\n",
       "      <td>1.000000</td>\n",
       "      <td>1.000000</td>\n",
       "      <td>1.000000</td>\n",
       "      <td>1.000000</td>\n",
       "      <td>1.000000</td>\n",
       "    </tr>\n",
       "    <tr>\n",
       "      <th>1</th>\n",
       "      <td>0.996614</td>\n",
       "      <td>0.996172</td>\n",
       "      <td>1.006097</td>\n",
       "      <td>1.007253</td>\n",
       "      <td>1.001290</td>\n",
       "      <td>1.001804</td>\n",
       "      <td>0.994596</td>\n",
       "      <td>0.997629</td>\n",
       "      <td>0.997941</td>\n",
       "      <td>1.002359</td>\n",
       "      <td>...</td>\n",
       "      <td>1.003300</td>\n",
       "      <td>1.003788</td>\n",
       "      <td>0.998830</td>\n",
       "      <td>1.002513</td>\n",
       "      <td>0.999563</td>\n",
       "      <td>0.997207</td>\n",
       "      <td>1.002919</td>\n",
       "      <td>1.007294</td>\n",
       "      <td>1.004183</td>\n",
       "      <td>1.004364</td>\n",
       "    </tr>\n",
       "    <tr>\n",
       "      <th>2</th>\n",
       "      <td>0.996517</td>\n",
       "      <td>1.001503</td>\n",
       "      <td>1.008683</td>\n",
       "      <td>1.011476</td>\n",
       "      <td>1.005763</td>\n",
       "      <td>1.003696</td>\n",
       "      <td>0.996569</td>\n",
       "      <td>0.999740</td>\n",
       "      <td>0.998193</td>\n",
       "      <td>1.004175</td>\n",
       "      <td>...</td>\n",
       "      <td>0.997159</td>\n",
       "      <td>1.006256</td>\n",
       "      <td>0.998545</td>\n",
       "      <td>1.006332</td>\n",
       "      <td>1.002117</td>\n",
       "      <td>0.998277</td>\n",
       "      <td>1.005531</td>\n",
       "      <td>1.009266</td>\n",
       "      <td>0.997765</td>\n",
       "      <td>0.999001</td>\n",
       "    </tr>\n",
       "    <tr>\n",
       "      <th>3</th>\n",
       "      <td>0.996668</td>\n",
       "      <td>1.006745</td>\n",
       "      <td>1.006780</td>\n",
       "      <td>1.008158</td>\n",
       "      <td>0.998309</td>\n",
       "      <td>1.002962</td>\n",
       "      <td>0.997467</td>\n",
       "      <td>0.999299</td>\n",
       "      <td>1.002681</td>\n",
       "      <td>1.010120</td>\n",
       "      <td>...</td>\n",
       "      <td>1.001385</td>\n",
       "      <td>1.004683</td>\n",
       "      <td>0.997970</td>\n",
       "      <td>1.014411</td>\n",
       "      <td>1.003375</td>\n",
       "      <td>0.998494</td>\n",
       "      <td>1.012473</td>\n",
       "      <td>1.007324</td>\n",
       "      <td>1.005795</td>\n",
       "      <td>1.007206</td>\n",
       "    </tr>\n",
       "    <tr>\n",
       "      <th>4</th>\n",
       "      <td>0.997101</td>\n",
       "      <td>1.018228</td>\n",
       "      <td>1.001931</td>\n",
       "      <td>1.009008</td>\n",
       "      <td>1.006269</td>\n",
       "      <td>1.000791</td>\n",
       "      <td>0.990630</td>\n",
       "      <td>0.996934</td>\n",
       "      <td>1.007067</td>\n",
       "      <td>1.008009</td>\n",
       "      <td>...</td>\n",
       "      <td>1.003019</td>\n",
       "      <td>1.004569</td>\n",
       "      <td>0.998973</td>\n",
       "      <td>1.013602</td>\n",
       "      <td>1.000786</td>\n",
       "      <td>0.994875</td>\n",
       "      <td>1.012006</td>\n",
       "      <td>1.014094</td>\n",
       "      <td>1.003417</td>\n",
       "      <td>1.002592</td>\n",
       "    </tr>\n",
       "    <tr>\n",
       "      <th>...</th>\n",
       "      <td>...</td>\n",
       "      <td>...</td>\n",
       "      <td>...</td>\n",
       "      <td>...</td>\n",
       "      <td>...</td>\n",
       "      <td>...</td>\n",
       "      <td>...</td>\n",
       "      <td>...</td>\n",
       "      <td>...</td>\n",
       "      <td>...</td>\n",
       "      <td>...</td>\n",
       "      <td>...</td>\n",
       "      <td>...</td>\n",
       "      <td>...</td>\n",
       "      <td>...</td>\n",
       "      <td>...</td>\n",
       "      <td>...</td>\n",
       "      <td>...</td>\n",
       "      <td>...</td>\n",
       "      <td>...</td>\n",
       "      <td>...</td>\n",
       "    </tr>\n",
       "    <tr>\n",
       "      <th>2516</th>\n",
       "      <td>7.815181</td>\n",
       "      <td>6.577729</td>\n",
       "      <td>7.615001</td>\n",
       "      <td>10.423931</td>\n",
       "      <td>5.955158</td>\n",
       "      <td>6.834936</td>\n",
       "      <td>7.697454</td>\n",
       "      <td>4.914035</td>\n",
       "      <td>6.562144</td>\n",
       "      <td>5.551622</td>\n",
       "      <td>...</td>\n",
       "      <td>7.789937</td>\n",
       "      <td>7.467652</td>\n",
       "      <td>11.039305</td>\n",
       "      <td>9.517687</td>\n",
       "      <td>5.253397</td>\n",
       "      <td>7.408067</td>\n",
       "      <td>5.711195</td>\n",
       "      <td>5.357207</td>\n",
       "      <td>7.820142</td>\n",
       "      <td>8.050124</td>\n",
       "    </tr>\n",
       "    <tr>\n",
       "      <th>2517</th>\n",
       "      <td>7.813170</td>\n",
       "      <td>6.550436</td>\n",
       "      <td>7.573088</td>\n",
       "      <td>10.410324</td>\n",
       "      <td>5.974078</td>\n",
       "      <td>6.858794</td>\n",
       "      <td>7.710751</td>\n",
       "      <td>4.877216</td>\n",
       "      <td>6.565928</td>\n",
       "      <td>5.580072</td>\n",
       "      <td>...</td>\n",
       "      <td>7.792434</td>\n",
       "      <td>7.553615</td>\n",
       "      <td>11.057039</td>\n",
       "      <td>9.539334</td>\n",
       "      <td>5.274641</td>\n",
       "      <td>7.377077</td>\n",
       "      <td>5.695516</td>\n",
       "      <td>5.384296</td>\n",
       "      <td>7.856749</td>\n",
       "      <td>8.049580</td>\n",
       "    </tr>\n",
       "    <tr>\n",
       "      <th>2518</th>\n",
       "      <td>7.857211</td>\n",
       "      <td>6.545804</td>\n",
       "      <td>7.548120</td>\n",
       "      <td>10.391873</td>\n",
       "      <td>5.978733</td>\n",
       "      <td>6.922893</td>\n",
       "      <td>7.740267</td>\n",
       "      <td>4.850043</td>\n",
       "      <td>6.554917</td>\n",
       "      <td>5.564976</td>\n",
       "      <td>...</td>\n",
       "      <td>7.843410</td>\n",
       "      <td>7.570088</td>\n",
       "      <td>11.172835</td>\n",
       "      <td>9.604565</td>\n",
       "      <td>5.317349</td>\n",
       "      <td>7.413014</td>\n",
       "      <td>5.692265</td>\n",
       "      <td>5.361454</td>\n",
       "      <td>7.805697</td>\n",
       "      <td>8.059439</td>\n",
       "    </tr>\n",
       "    <tr>\n",
       "      <th>2519</th>\n",
       "      <td>7.836007</td>\n",
       "      <td>6.561070</td>\n",
       "      <td>7.539472</td>\n",
       "      <td>10.453942</td>\n",
       "      <td>6.013443</td>\n",
       "      <td>6.946807</td>\n",
       "      <td>7.758396</td>\n",
       "      <td>4.886576</td>\n",
       "      <td>6.582709</td>\n",
       "      <td>5.590048</td>\n",
       "      <td>...</td>\n",
       "      <td>7.870929</td>\n",
       "      <td>7.552770</td>\n",
       "      <td>11.208375</td>\n",
       "      <td>9.601627</td>\n",
       "      <td>5.266211</td>\n",
       "      <td>7.384275</td>\n",
       "      <td>5.687593</td>\n",
       "      <td>5.357448</td>\n",
       "      <td>7.826346</td>\n",
       "      <td>8.089091</td>\n",
       "    </tr>\n",
       "    <tr>\n",
       "      <th>2520</th>\n",
       "      <td>7.872523</td>\n",
       "      <td>6.577161</td>\n",
       "      <td>7.545113</td>\n",
       "      <td>10.581691</td>\n",
       "      <td>6.002179</td>\n",
       "      <td>6.992525</td>\n",
       "      <td>7.783931</td>\n",
       "      <td>4.884784</td>\n",
       "      <td>6.590774</td>\n",
       "      <td>5.646417</td>\n",
       "      <td>...</td>\n",
       "      <td>7.833892</td>\n",
       "      <td>7.549346</td>\n",
       "      <td>11.261848</td>\n",
       "      <td>9.559786</td>\n",
       "      <td>5.309582</td>\n",
       "      <td>7.369196</td>\n",
       "      <td>5.682256</td>\n",
       "      <td>5.393941</td>\n",
       "      <td>7.841604</td>\n",
       "      <td>8.052462</td>\n",
       "    </tr>\n",
       "  </tbody>\n",
       "</table>\n",
       "<p>2521 rows × 500 columns</p>\n",
       "</div>"
      ],
      "text/plain": [
       "           0         1         2          3         4         5         6    \\\n",
       "0     1.000000  1.000000  1.000000   1.000000  1.000000  1.000000  1.000000   \n",
       "1     0.996614  0.996172  1.006097   1.007253  1.001290  1.001804  0.994596   \n",
       "2     0.996517  1.001503  1.008683   1.011476  1.005763  1.003696  0.996569   \n",
       "3     0.996668  1.006745  1.006780   1.008158  0.998309  1.002962  0.997467   \n",
       "4     0.997101  1.018228  1.001931   1.009008  1.006269  1.000791  0.990630   \n",
       "...        ...       ...       ...        ...       ...       ...       ...   \n",
       "2516  7.815181  6.577729  7.615001  10.423931  5.955158  6.834936  7.697454   \n",
       "2517  7.813170  6.550436  7.573088  10.410324  5.974078  6.858794  7.710751   \n",
       "2518  7.857211  6.545804  7.548120  10.391873  5.978733  6.922893  7.740267   \n",
       "2519  7.836007  6.561070  7.539472  10.453942  6.013443  6.946807  7.758396   \n",
       "2520  7.872523  6.577161  7.545113  10.581691  6.002179  6.992525  7.783931   \n",
       "\n",
       "           7         8         9    ...       490       491        492  \\\n",
       "0     1.000000  1.000000  1.000000  ...  1.000000  1.000000   1.000000   \n",
       "1     0.997629  0.997941  1.002359  ...  1.003300  1.003788   0.998830   \n",
       "2     0.999740  0.998193  1.004175  ...  0.997159  1.006256   0.998545   \n",
       "3     0.999299  1.002681  1.010120  ...  1.001385  1.004683   0.997970   \n",
       "4     0.996934  1.007067  1.008009  ...  1.003019  1.004569   0.998973   \n",
       "...        ...       ...       ...  ...       ...       ...        ...   \n",
       "2516  4.914035  6.562144  5.551622  ...  7.789937  7.467652  11.039305   \n",
       "2517  4.877216  6.565928  5.580072  ...  7.792434  7.553615  11.057039   \n",
       "2518  4.850043  6.554917  5.564976  ...  7.843410  7.570088  11.172835   \n",
       "2519  4.886576  6.582709  5.590048  ...  7.870929  7.552770  11.208375   \n",
       "2520  4.884784  6.590774  5.646417  ...  7.833892  7.549346  11.261848   \n",
       "\n",
       "           493       494       495       496       497       498       499  \n",
       "0     1.000000  1.000000  1.000000  1.000000  1.000000  1.000000  1.000000  \n",
       "1     1.002513  0.999563  0.997207  1.002919  1.007294  1.004183  1.004364  \n",
       "2     1.006332  1.002117  0.998277  1.005531  1.009266  0.997765  0.999001  \n",
       "3     1.014411  1.003375  0.998494  1.012473  1.007324  1.005795  1.007206  \n",
       "4     1.013602  1.000786  0.994875  1.012006  1.014094  1.003417  1.002592  \n",
       "...        ...       ...       ...       ...       ...       ...       ...  \n",
       "2516  9.517687  5.253397  7.408067  5.711195  5.357207  7.820142  8.050124  \n",
       "2517  9.539334  5.274641  7.377077  5.695516  5.384296  7.856749  8.049580  \n",
       "2518  9.604565  5.317349  7.413014  5.692265  5.361454  7.805697  8.059439  \n",
       "2519  9.601627  5.266211  7.384275  5.687593  5.357448  7.826346  8.089091  \n",
       "2520  9.559786  5.309582  7.369196  5.682256  5.393941  7.841604  8.052462  \n",
       "\n",
       "[2521 rows x 500 columns]"
      ]
     },
     "execution_count": 31,
     "metadata": {},
     "output_type": "execute_result"
    }
   ],
   "source": [
    "# Run the Monte Carlo simulation to forecast 30 years cumulative returns\n",
    "# YOUR CODE HERE\n",
    "mc_sim.calc_cumulative_return()"
   ]
  },
  {
   "cell_type": "code",
   "execution_count": 32,
   "metadata": {},
   "outputs": [
    {
     "data": {
      "image/png": "[encoded data removed]",
      "text/plain": [
       "<Figure size 432x288 with 1 Axes>"
      ]
     },
     "metadata": {
      "needs_background": "light"
     },
     "output_type": "display_data"
    }
   ],
   "source": [
    "# Visualize the 30-year Monte Carlo simulation by creating an\n",
    "# overlay line plot\n",
    "# YOUR CODE HERE\n",
    "mc_sim_plot = mc_sim.plot_simulation()"
   ]
  },
  {
   "cell_type": "markdown",
   "metadata": {},
   "source": [
    "#### Step 3: Plot the probability distribution of the Monte Carlo simulation."
   ]
  },
  {
   "cell_type": "code",
   "execution_count": 33,
   "metadata": {},
   "outputs": [
    {
     "data": {
      "image/png": "[encoded data removed]",
      "text/plain": [
       "<Figure size 432x288 with 1 Axes>"
      ]
     },
     "metadata": {
      "needs_background": "light"
     },
     "output_type": "display_data"
    }
   ],
   "source": [
    "# Visualize the probability distribution of the 30-year Monte Carlo simulation \n",
    "# by plotting a histogram\n",
    "# YOUR CODE HERE\n",
    "mc_weight_distribution_plot = mc_sim.plot_distribution()"
   ]
  },
  {
   "cell_type": "markdown",
   "metadata": {},
   "source": [
    "#### Step 4: Generate the summary statistics for the Monte Carlo simulation."
   ]
  },
  {
   "cell_type": "code",
   "execution_count": 34,
   "metadata": {},
   "outputs": [
    {
     "name": "stdout",
     "output_type": "stream",
     "text": [
      "count           500.000000\n",
      "mean              7.489152\n",
      "std               1.631882\n",
      "min               3.831956\n",
      "25%               6.298614\n",
      "50%               7.379722\n",
      "75%               8.488663\n",
      "max              17.957516\n",
      "95% CI Lower      4.894504\n",
      "95% CI Upper     11.018231\n",
      "Name: 2520, dtype: float64\n"
     ]
    }
   ],
   "source": [
    "# Generate summary statistics from the 30-year Monte Carlo simulation results\n",
    "# Save the results as a variable\n",
    "# YOUR CODE HERE\n",
    "mc_description = mc_sim.summarize_cumulative_return()\n",
    "\n",
    "# Review the 30-year Monte Carlo summary statistics\n",
    "# YOUR CODE HERE\n",
    "print(mc_description)"
   ]
  },
  {
   "cell_type": "markdown",
   "metadata": {},
   "source": [
    "### Analyze the Retirement Portfolio Forecasts\n",
    "\n",
    "Using the current value of only the stock and bond portion of the member's portfolio and the summary statistics that you generated from the Monte Carlo simulation, answer the following question in your Jupyter notebook:\n",
    "\n",
    "-  What are the lower and upper bounds for the expected value of the portfolio with a 95% confidence interval?\n"
   ]
  },
  {
   "cell_type": "code",
   "execution_count": 35,
   "metadata": {},
   "outputs": [
    {
     "name": "stdout",
     "output_type": "stream",
     "text": [
      "The current value of member's stock & bond portfolio is $71,523.90\n"
     ]
    }
   ],
   "source": [
    "# Print the current balance of the stock and bond portion of the members portfolio\n",
    "# YOUR CODE HERE\n",
    "print(f\"The current value of member's stock & bond portfolio is ${total_stocks_bonds:,.2f}\")"
   ]
  },
  {
   "cell_type": "code",
   "execution_count": 36,
   "metadata": {},
   "outputs": [
    {
     "name": "stdout",
     "output_type": "stream",
     "text": [
      "There is a 95% chance that the current total 'stock/bond' portfolio with a value of $71,523.90, could go as low as $350,074.01 or as high as $788,066.88.\n"
     ]
    }
   ],
   "source": [
    "# Use the lower and upper `95%` confidence intervals to calculate the range of the possible outcomes for the current stock/bond portfolio\n",
    "ci_lower_thirty_cumulative_return = round(mc_description[8]*total_stocks_bonds,2)\n",
    "ci_upper_thirty_cumulative_return = round(mc_description[9]*total_stocks_bonds,2)\n",
    "\n",
    "# ci_lower_thirty_cumulative_return\n",
    "# ci_upper_thirty_cumulative_return\n",
    "\n",
    "# Print the result of your calculations\n",
    "# YOUR CODE HERE\n",
    "print(f\"There is a 95% chance that the current total 'stock/bond' portfolio with a value of ${total_stocks_bonds:,.2f}, could\"\n",
    "      f\" go as low as ${ci_lower_thirty_cumulative_return:,.2f} or as high as ${ci_upper_thirty_cumulative_return:,.2f}.\")"
   ]
  },
  {
   "cell_type": "markdown",
   "metadata": {},
   "source": [
    "### Forecast Cumulative Returns in 10 Years\n",
    "\n",
    "The CTO of the credit union is impressed with your work on these planning tools but wonders if 30 years is a long time to wait until retirement. So, your next task is to adjust the retirement portfolio and run a new Monte Carlo simulation to find out if the changes will allow members to retire earlier.\n",
    "\n",
    "For this new Monte Carlo simulation, do the following: \n",
    "\n",
    "- Forecast the cumulative returns for 10 years from now. Because of the shortened investment horizon (30 years to 10 years), the portfolio needs to invest more heavily in the riskier asset&mdash;that is, stock&mdash;to help accumulate wealth for retirement. \n",
    "\n",
    "- Adjust the weights of the retirement portfolio so that the composition for the Monte Carlo simulation consists of 20% bonds and 80% stocks. \n",
    "\n",
    "- Run the simulation over 500 samples, and use the same data that the API call to Alpaca generated.\n",
    "\n",
    "- Based on the new Monte Carlo simulation, answer the following questions in your Jupyter notebook:\n",
    "\n",
    "    - Using the current value of only the stock and bond portion of the member's portfolio and the summary statistics that you generated from the new Monte Carlo simulation, what are the lower and upper bounds for the expected value of the portfolio (with the new weights) with a 95% confidence interval?\n",
    "\n",
    "    - Will weighting the portfolio more heavily toward stocks allow the credit union members to retire after only 10 years?\n"
   ]
  },
  {
   "cell_type": "code",
   "execution_count": 37,
   "metadata": {},
   "outputs": [],
   "source": [
    "# Configure a Monte Carlo simulation to forecast 10 years cumulative returns\n",
    "# The weights should be split 20% to AGG and 80% to SPY.\n",
    "# Run 500 samples.\n",
    "# YOUR CODE HERE\n",
    "\n",
    "# Review the simulation input data\n",
    "# YOUR CODE HERE\n"
   ]
  },
  {
   "cell_type": "code",
   "execution_count": 38,
   "metadata": {},
   "outputs": [],
   "source": [
    "# Run the Monte Carlo simulation to forecast 10 years cumulative returns\n",
    "# YOUR CODE HERE\n"
   ]
  },
  {
   "cell_type": "code",
   "execution_count": 39,
   "metadata": {},
   "outputs": [],
   "source": [
    "# Visualize the 10-year Monte Carlo simulation by creating an\n",
    "# overlay line plot\n",
    "# YOUR CODE HERE\n"
   ]
  },
  {
   "cell_type": "code",
   "execution_count": 40,
   "metadata": {},
   "outputs": [],
   "source": [
    "# Visualize the probability distribution of the 10-year Monte Carlo simulation \n",
    "# by plotting a histogram\n",
    "# YOUR CODE HERE\n"
   ]
  },
  {
   "cell_type": "code",
   "execution_count": 41,
   "metadata": {},
   "outputs": [],
   "source": [
    "# Generate summary statistics from the 10-year Monte Carlo simulation results\n",
    "# Save the results as a variable\n",
    "# YOUR CODE HERE\n",
    "\n",
    "\n",
    "# Review the 10-year Monte Carlo summary statistics\n",
    "# YOUR CODE HERE"
   ]
  },
  {
   "cell_type": "markdown",
   "metadata": {},
   "source": [
    "### Answer the following questions:"
   ]
  },
  {
   "cell_type": "markdown",
   "metadata": {},
   "source": [
    "#### Question: Using the current value of only the stock and bond portion of the member's portfolio and the summary statistics that you generated from the new Monte Carlo simulation, what are the lower and upper bounds for the expected value of the portfolio (with the new weights) with a 95% confidence interval?"
   ]
  },
  {
   "cell_type": "code",
   "execution_count": 42,
   "metadata": {},
   "outputs": [],
   "source": [
    "# Print the current balance of the stock and bond portion of the members portfolio\n",
    "# YOUR CODE HERE\n"
   ]
  },
  {
   "cell_type": "code",
   "execution_count": 43,
   "metadata": {},
   "outputs": [
    {
     "ename": "SyntaxError",
     "evalue": "invalid syntax (<ipython-input-43-22df4ad96d2f>, line 2)",
     "output_type": "error",
     "traceback": [
      "\u001b[1;36m  File \u001b[1;32m\"<ipython-input-43-22df4ad96d2f>\"\u001b[1;36m, line \u001b[1;32m2\u001b[0m\n\u001b[1;33m    ci_lower_ten_cumulative_return = # YOUR CODE HERE\u001b[0m\n\u001b[1;37m                                                     ^\u001b[0m\n\u001b[1;31mSyntaxError\u001b[0m\u001b[1;31m:\u001b[0m invalid syntax\n"
     ]
    }
   ],
   "source": [
    "# Use the lower and upper `95%` confidence intervals to calculate the range of the possible outcomes for the current stock/bond portfolio\n",
    "# ci_lower_ten_cumulative_return = # YOUR CODE HERE\n",
    "# ci_upper_ten_cumulative_return = # YOUR CODE HERE\n",
    "\n",
    "# Print the result of your calculations\n",
    "# YOUR CODE HERE\n"
   ]
  },
  {
   "cell_type": "markdown",
   "metadata": {},
   "source": [
    "#### Question: Will weighting the portfolio more heavily to stocks allow the credit union members to retire after only 10 years?"
   ]
  },
  {
   "cell_type": "raw",
   "metadata": {},
   "source": [
    "**Answer** # YOUR ANSWER HERE"
   ]
  },
  {
   "cell_type": "code",
   "execution_count": null,
   "metadata": {},
   "outputs": [],
   "source": []
  }
 ],
 "metadata": {
  "kernelspec": {
   "display_name": "Python (dev)",
   "language": "python",
   "name": "dev"
  },
  "language_info": {
   "codemirror_mode": {
    "name": "ipython",
    "version": 3
   },
   "file_extension": ".py",
   "mimetype": "text/x-python",
   "name": "python",
   "nbconvert_exporter": "python",
   "pygments_lexer": "ipython3",
   "version": "3.7.10"
  }
 },
 "nbformat": 4,
 "nbformat_minor": 4
}
